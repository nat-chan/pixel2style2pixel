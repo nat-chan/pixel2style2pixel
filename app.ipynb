{
 "cells": [
  {
   "cell_type": "code",
   "execution_count": null,
   "metadata": {},
   "outputs": [],
   "source": [
    "from pathlib import Path\n",
    "root = Path(\"/data/natsuki/danbooru2020/psp/encavgsim_1632393929\")\n",
    "import torch\n",
    "from argparse import Namespace\n",
    "from PIL import Image"
   ]
  },
  {
   "cell_type": "code",
   "execution_count": null,
   "metadata": {},
   "outputs": [],
   "source": [
    "ckpt = torch.load(root/\"checkpoints/best_model.pt\", map_location='cpu')\n",
    "opts = ckpt['opts']\n",
    "opts['output_size'] = 512\n",
    "opts['learn_in_w'] = False\n",
    "opts = Namespace(**opts)"
   ]
  },
  {
   "cell_type": "code",
   "execution_count": null,
   "metadata": {},
   "outputs": [],
   "source": [
    "from models.psp import pSp"
   ]
  },
  {
   "cell_type": "code",
   "execution_count": null,
   "metadata": {},
   "outputs": [],
   "source": [
    "net = pSp(opts)\n",
    "net.eval()\n",
    "net.cuda()"
   ]
  },
  {
   "cell_type": "code",
   "execution_count": null,
   "metadata": {},
   "outputs": [],
   "source": [
    "inputs = torch.ones(1,1,256,256).cuda()\n",
    "w = net.encoder(inputs)\n",
    "synth_image = net.decoder(w)[0]"
   ]
  },
  {
   "cell_type": "code",
   "execution_count": null,
   "metadata": {},
   "outputs": [],
   "source": [
    "synth_image = (synth_image + 1) * (255/2)\n",
    "synth_image = synth_image.permute(0, 2, 3, 1).clamp(0, 255).to(torch.uint8)[0].cpu().numpy()\n",
    "img = Image.fromarray(synth_image, 'RGB')\n",
    "img"
   ]
  },
  {
   "cell_type": "code",
   "execution_count": null,
   "metadata": {},
   "outputs": [],
   "source": [
    "val = Path(\"/data/natsuki/danbooru2020/whitechest_sim_val/0000\")\n",
    "data = list(val.glob(\"**/*.png\"))"
   ]
  },
  {
   "cell_type": "code",
   "execution_count": null,
   "metadata": {},
   "outputs": [],
   "source": [
    "img = Image.open(data[0]).resize(256, 256, \"lanczos\")"
   ]
  }
 ],
 "metadata": {
  "interpreter": {
   "hash": "e452eace1bc42ff1bb5e1db7dc9d08f5b173742abd0cfea2b121f162e2bcdc52"
  },
  "kernelspec": {
   "display_name": "Python 3.6.7 64-bit (conda)",
   "language": "python",
   "name": "python3"
  },
  "language_info": {
   "codemirror_mode": {
    "name": "ipython",
    "version": 3
   },
   "file_extension": ".py",
   "mimetype": "text/x-python",
   "name": "python",
   "nbconvert_exporter": "python",
   "pygments_lexer": "ipython3",
   "version": "3.6.7"
  },
  "orig_nbformat": 4
 },
 "nbformat": 4,
 "nbformat_minor": 2
}
